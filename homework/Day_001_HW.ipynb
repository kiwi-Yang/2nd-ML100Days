{
 "cells": [
  {
   "cell_type": "code",
   "execution_count": 1,
   "metadata": {},
   "outputs": [
    {
     "data": {
      "text/plain": [
       "'\\n作業1：\\n\\n選擇的競賽為：Digit Recognizer\\n\\n1.你選的這組資料為何重要：\\n    企業的核心問題的基礎，在手寫稿自動轉換為可編輯電子文檔在未來會是數位轉型的關鍵，\\n    而數字辨識為基礎中的基礎，可藉由這樣的案例逐步建立研發能量，進一步完成數位轉型。\\n\\n2. 資料從何而來 (tips: 譬如提供者是誰、以什麼方式蒐集)：\\n    由競賽發起者提供訓練資料，資料為手繪數字圖檔，應為紙本轉電子檔。\\n\\n3. 蒐集而來的資料型態為何：\\n    非結構化之圖文檔。\\n    \\n4. 這組資料想解決的問題如何評估：\\n    文字辨識正確率。\\n'"
      ]
     },
     "execution_count": 1,
     "metadata": {},
     "output_type": "execute_result"
    }
   ],
   "source": [
    "\"\"\"\n",
    "作業1：\n",
    "\n",
    "選擇的競賽為：Digit Recognizer\n",
    "\n",
    "1.你選的這組資料為何重要：\n",
    "    企業的核心問題的基礎，在手寫稿自動轉換為可編輯電子文檔在未來會是數位轉型的關鍵，\n",
    "    而數字辨識為基礎中的基礎，可藉由這樣的案例逐步建立研發能量，進一步完成數位轉型。\n",
    "\n",
    "2. 資料從何而來 (tips: 譬如提供者是誰、以什麼方式蒐集)：\n",
    "    由競賽發起者提供訓練資料，資料為手繪數字圖檔，應為紙本轉電子檔。\n",
    "\n",
    "3. 蒐集而來的資料型態為何：\n",
    "    非結構化之圖文檔。\n",
    "    \n",
    "4. 這組資料想解決的問題如何評估：\n",
    "    文字辨識正確率。\n",
    "\"\"\""
   ]
  },
  {
   "cell_type": "code",
   "execution_count": 2,
   "metadata": {},
   "outputs": [
    {
     "data": {
      "text/plain": [
       "'\\n作業2：\\n\\n想像你經營一個自由載客車隊，你希望能透過數據分析以提升業績，請你思考並描述你如何規劃整體的分析/解決方案：\\n\\n1. 核心問題為何 (tips：如何定義 「提升業績 & 你的假設」)：\\n    乘客在什麼樣的時間在什麼樣的地點會選擇搭車，進行預測讓客戶無需等待，並同時讓稼動率提升，降低營運成本並增加接單率，提升業績成長。\\n    \\n2. 資料從何而來 (tips：哪些資料可能會對你想問的問題產生影響 & 資料如何蒐集)：\\n    買！購買使用者消費相關資訊。 另外記錄消費者使用載客服務的時間與地點，可由手機APP完成。 另外讓使用者註冊輸入基本資訊才能使用服務。\\n\\n3. 蒐集而來的資料型態為何：\\n    購買的資料型態應為結構化的表格資訊。\\n    消費者的使用服務的時間地點與註冊時所輸入的基本資料也為結構化的表格資訊。\\n\\n4. 你要回答的問題，其如何評估 (tips：你的假設如何驗證)：\\n    預測客戶下次使用服務的地點時間之正確性。\\n'"
      ]
     },
     "execution_count": 2,
     "metadata": {},
     "output_type": "execute_result"
    }
   ],
   "source": [
    "\"\"\"\n",
    "作業2：\n",
    "\n",
    "想像你經營一個自由載客車隊，你希望能透過數據分析以提升業績，請你思考並描述你如何規劃整體的分析/解決方案：\n",
    "\n",
    "1. 核心問題為何 (tips：如何定義 「提升業績 & 你的假設」)：\n",
    "    乘客在什麼樣的時間在什麼樣的地點會選擇搭車，進行預測讓客戶無需等待，並同時讓稼動率提升，降低營運成本並增加接單率，提升業績成長。\n",
    "    \n",
    "2. 資料從何而來 (tips：哪些資料可能會對你想問的問題產生影響 & 資料如何蒐集)：\n",
    "    買！購買使用者消費相關資訊。 另外記錄消費者使用載客服務的時間與地點，可由手機APP完成。 另外讓使用者註冊輸入基本資訊才能使用服務。\n",
    "\n",
    "3. 蒐集而來的資料型態為何：\n",
    "    購買的資料型態應為結構化的表格資訊。\n",
    "    消費者的使用服務的時間地點與註冊時所輸入的基本資料也為結構化的表格資訊。\n",
    "\n",
    "4. 你要回答的問題，其如何評估 (tips：你的假設如何驗證)：\n",
    "    預測客戶下次使用服務的地點時間之正確性。\n",
    "\"\"\""
   ]
  },
  {
   "cell_type": "code",
   "execution_count": 3,
   "metadata": {},
   "outputs": [],
   "source": [
    "import numpy as np\n",
    "import matplotlib.pyplot as plt"
   ]
  },
  {
   "cell_type": "code",
   "execution_count": 4,
   "metadata": {},
   "outputs": [],
   "source": [
    "def mean_squared_error(y, yp):\n",
    "    \"\"\"\n",
    "    計算 MSE\n",
    "    Args:\n",
    "        - y: 實際值\n",
    "        - yp: 預測值\n",
    "    Return:\n",
    "        - mse: MSE\n",
    "    \"\"\"\n",
    "    mse = MSE = sum(np.power((y - yp),2)) / len(y)\n",
    "    return mse"
   ]
  },
  {
   "cell_type": "code",
   "execution_count": 5,
   "metadata": {},
   "outputs": [],
   "source": [
    "def mean_absolute_error(y, yp):\n",
    "    \"\"\"\n",
    "    計算 MAE\n",
    "    Args:\n",
    "        - y: 實際值\n",
    "        - yp: 預測值\n",
    "    Return:\n",
    "        - mae: MAE\n",
    "    \"\"\"\n",
    "    mae = MAE = sum(abs(y - yp)) / len(y)\n",
    "    return mae"
   ]
  },
  {
   "cell_type": "code",
   "execution_count": 6,
   "metadata": {},
   "outputs": [
    {
     "data": {
      "image/png": "[encoded data removed]",
      "text/plain": [
       "<Figure size 432x288 with 1 Axes>"
      ]
     },
     "metadata": {
      "needs_background": "light"
     },
     "output_type": "display_data"
    }
   ],
   "source": [
    "w = 3\n",
    "b = 0.5\n",
    "\n",
    "x_lin = np.linspace(0, 100, 101)\n",
    "\n",
    "y = (x_lin + np.random.randn(101) * 5) * w + b\n",
    "\n",
    "plt.plot(x_lin, y, 'b.', label = 'data points')\n",
    "plt.title(\"Assume we have data points\")\n",
    "plt.legend(loc = 2)\n",
    "plt.show()"
   ]
  },
  {
   "cell_type": "code",
   "execution_count": 7,
   "metadata": {},
   "outputs": [
    {
     "data": {
      "image/png": "[encoded data removed]",
      "text/plain": [
       "<Figure size 432x288 with 1 Axes>"
      ]
     },
     "metadata": {
      "needs_background": "light"
     },
     "output_type": "display_data"
    }
   ],
   "source": [
    "y_hat = x_lin * w + b\n",
    "plt.plot(x_lin, y, 'b.', label = 'data')\n",
    "plt.plot(x_lin, y_hat, 'r-', label = 'prediction')\n",
    "plt.title(\"Assume we have data points (And the prediction)\")\n",
    "plt.legend(loc = 2)\n",
    "plt.show()"
   ]
  },
  {
   "cell_type": "code",
   "execution_count": 8,
   "metadata": {},
   "outputs": [
    {
     "name": "stdout",
     "output_type": "stream",
     "text": [
      "The Mean absolute error is 12.563\n",
      "The Mean squared error is 249.775\n"
     ]
    }
   ],
   "source": [
    "# 執行 Function, 確認有沒有正常執行\n",
    "MAE = mean_absolute_error(y, y_hat)\n",
    "print(\"The Mean absolute error is %.3f\" % (MAE))\n",
    "\n",
    "MSE = mean_squared_error(y, y_hat)\n",
    "print(\"The Mean squared error is %.3f\" % (MSE))\n"
   ]
  },
  {
   "cell_type": "code",
   "execution_count": null,
   "metadata": {},
   "outputs": [],
   "source": []
  }
 ],
 "metadata": {
  "kernelspec": {
   "display_name": "Python 3",
   "language": "python",
   "name": "python3"
  },
  "language_info": {
   "codemirror_mode": {
    "name": "ipython",
    "version": 3
   },
   "file_extension": ".py",
   "mimetype": "text/x-python",
   "name": "python",
   "nbconvert_exporter": "python",
   "pygments_lexer": "ipython3",
   "version": "3.7.3"
  }
 },
 "nbformat": 4,
 "nbformat_minor": 2
}
